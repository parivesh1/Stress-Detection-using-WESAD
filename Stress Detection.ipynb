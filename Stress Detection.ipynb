{
 "cells": [
  {
   "cell_type": "markdown",
   "id": "0d9b4b82",
   "metadata": {},
   "source": [
    "# Import All necessary Moduldes"
   ]
  },
  {
   "cell_type": "code",
   "execution_count": 1,
   "id": "28182b19",
   "metadata": {},
   "outputs": [
    {
     "name": "stderr",
     "output_type": "stream",
     "text": [
      "C:\\Users\\91934\\anaconda3\\lib\\site-packages\\scipy\\__init__.py:146: UserWarning: A NumPy version >=1.16.5 and <1.23.0 is required for this version of SciPy (detected version 1.26.1\n",
      "  warnings.warn(f\"A NumPy version >={np_minversion} and <{np_maxversion}\"\n"
     ]
    }
   ],
   "source": [
    "import pickle\n",
    "import numpy as np\n",
    "import pandas as pd\n",
    "import matplotlib\n",
    "import matplotlib.pyplot as plt\n",
    "import pandas as pd\n",
    "import csv\n",
    "from sklearn.model_selection import train_test_split\n",
    "\n",
    "#from sklearn.datasets import fetch_mldata\n",
    "import seaborn as sns\n",
    "import sklearn as sklearn\n",
    "from sklearn.neighbors import KNeighborsClassifier\n",
    "import sklearn.linear_model as skl_lm\n",
    "from sklearn.discriminant_analysis import LinearDiscriminantAnalysis\n",
    "from sklearn.discriminant_analysis import QuadraticDiscriminantAnalysis\n",
    "from sklearn.metrics import accuracy_score\n",
    "from sklearn.metrics import confusion_matrix\n",
    "from sklearn.metrics import roc_curve\n",
    "from sklearn.metrics import classification_report\n",
    "\n",
    "from sklearn.model_selection import cross_val_score\n",
    "from sklearn.model_selection import cross_val_predict\n",
    "from sklearn.tree import DecisionTreeClassifier # Import Decision Tree Classifier\n",
    "\n",
    "import statsmodels.api as sm\n",
    "from sklearn import tree\n",
    "from sklearn.decomposition import PCA"
   ]
  },
  {
   "cell_type": "markdown",
   "id": "c28d2656",
   "metadata": {},
   "source": [
    "## Import Patient#2 details & display them (Doing analysis on only one patient for now for convenience)"
   ]
  },
  {
   "cell_type": "code",
   "execution_count": 2,
   "id": "7dbd6c6c",
   "metadata": {},
   "outputs": [
    {
     "data": {
      "text/plain": [
       "{'signal': {'chest': {'ACC': array([[ 0.95539999, -0.222     , -0.55799997],\n",
       "          [ 0.92579997, -0.2216    , -0.55379999],\n",
       "          [ 0.90820003, -0.21960002, -0.53920001],\n",
       "          ...,\n",
       "          [ 0.87179995, -0.12379998, -0.30419999],\n",
       "          [ 0.87300003, -0.12339997, -0.30260003],\n",
       "          [ 0.87020004, -0.12199998, -0.30220002]]),\n",
       "   'ECG': array([[ 0.02142334],\n",
       "          [ 0.02032471],\n",
       "          [ 0.01652527],\n",
       "          ...,\n",
       "          [-0.00544739],\n",
       "          [ 0.00013733],\n",
       "          [ 0.0040741 ]]),\n",
       "   'EMG': array([[-0.00444031],\n",
       "          [ 0.00434875],\n",
       "          [ 0.00517273],\n",
       "          ...,\n",
       "          [-0.01716614],\n",
       "          [-0.02897644],\n",
       "          [-0.02357483]]),\n",
       "   'EDA': array([[5.25054932],\n",
       "          [5.26733398],\n",
       "          [5.24330139],\n",
       "          ...,\n",
       "          [0.36048889],\n",
       "          [0.36582947],\n",
       "          [0.365448  ]]),\n",
       "   'Temp': array([[30.120758],\n",
       "          [30.129517],\n",
       "          [30.138214],\n",
       "          ...,\n",
       "          [31.459229],\n",
       "          [31.484283],\n",
       "          [31.456268]], dtype=float32),\n",
       "   'Resp': array([[-1.14898682],\n",
       "          [-1.12457275],\n",
       "          [-1.15203857],\n",
       "          ...,\n",
       "          [-1.10321045],\n",
       "          [-1.08642578],\n",
       "          [-1.09710693]])},\n",
       "  'wrist': {'ACC': array([[ 62., -21., 107.],\n",
       "          [ 66.,  13.,  53.],\n",
       "          [ 41.,   9.,  15.],\n",
       "          ...,\n",
       "          [ 41.,  25.,  11.],\n",
       "          [ 39.,  27.,  22.],\n",
       "          [ 56.,  26.,  10.]]),\n",
       "   'BVP': array([[-59.37],\n",
       "          [-53.42],\n",
       "          [-44.4 ],\n",
       "          ...,\n",
       "          [ 18.26],\n",
       "          [ 18.68],\n",
       "          [ 19.71]]),\n",
       "   'EDA': array([[1.138257],\n",
       "          [1.125444],\n",
       "          [1.011405],\n",
       "          ...,\n",
       "          [0.059208],\n",
       "          [0.073303],\n",
       "          [0.045113]]),\n",
       "   'TEMP': array([[35.41],\n",
       "          [35.41],\n",
       "          [35.41],\n",
       "          ...,\n",
       "          [34.23],\n",
       "          [34.23],\n",
       "          [34.23]])}},\n",
       " 'label': array([0, 0, 0, ..., 0, 0, 0]),\n",
       " 'subject': 'S2'}"
      ]
     },
     "execution_count": 2,
     "metadata": {},
     "output_type": "execute_result"
    }
   ],
   "source": [
    "s2_path = 'S2/S2.pkl'\n",
    "with open(s2_path, 'rb') as file:\n",
    "    s2_data = pickle.load(file, encoding='latin1')\n",
    "    \n",
    "s2_data"
   ]
  },
  {
   "cell_type": "code",
   "execution_count": 3,
   "id": "3d978b1f",
   "metadata": {},
   "outputs": [
    {
     "name": "stdout",
     "output_type": "stream",
     "text": [
      "4255300\n",
      "5158996\n"
     ]
    }
   ],
   "source": [
    "print(len(s2_data['label']))\n",
    "print(sum(s2_data['label']))"
   ]
  },
  {
   "cell_type": "code",
   "execution_count": 4,
   "id": "765a6721",
   "metadata": {},
   "outputs": [
    {
     "data": {
      "text/plain": [
       "Text(0.5, 1.0, 'W_Label values')"
      ]
     },
     "execution_count": 4,
     "metadata": {},
     "output_type": "execute_result"
    },
    {
     "data": {
      "image/png": "[encoded data removed]",
      "text/plain": [
       "<Figure size 432x288 with 1 Axes>"
      ]
     },
     "metadata": {
      "needs_background": "light"
     },
     "output_type": "display_data"
    }
   ],
   "source": [
    "w_label = s2_data['label']\n",
    "\n",
    "plt.figure()\n",
    "g = sns.countplot(x = w_label, palette = \"icefire\") \n",
    "plt.title(\"W_Label values\")\n",
    "# w_label.value_counts()"
   ]
  },
  {
   "cell_type": "markdown",
   "id": "bbc0e2a8",
   "metadata": {},
   "source": [
    "## To convert to a binary model, we take 0 as non-stressed 1 indicating stress given as label 2 in readme file"
   ]
  },
  {
   "cell_type": "code",
   "execution_count": 5,
   "id": "6e530eb7",
   "metadata": {},
   "outputs": [],
   "source": [
    "w_label = [1 if x == 2 else 0 for x in w_label]"
   ]
  },
  {
   "cell_type": "code",
   "execution_count": 6,
   "id": "689299b2",
   "metadata": {},
   "outputs": [
    {
     "data": {
      "text/plain": [
       "Text(0.5, 1.0, 'W Label values')"
      ]
     },
     "execution_count": 6,
     "metadata": {},
     "output_type": "execute_result"
    },
    {
     "data": {
      "image/png": "[encoded data removed]",
      "text/plain": [
       "<Figure size 432x288 with 1 Axes>"
      ]
     },
     "metadata": {
      "needs_background": "light"
     },
     "output_type": "display_data"
    }
   ],
   "source": [
    "plt.figure()\n",
    "g = sns.countplot(x = w_label, palette = \"icefire\") \n",
    "plt.title(\"W Label values\")\n",
    "# w_label.value_counts()"
   ]
  },
  {
   "cell_type": "markdown",
   "id": "75e7bc16",
   "metadata": {},
   "source": [
    "## Extract all features as per the Research Paper"
   ]
  },
  {
   "cell_type": "code",
   "execution_count": 7,
   "id": "19244c04",
   "metadata": {},
   "outputs": [],
   "source": [
    "c_ecg = s2_data['signal']['chest']['ECG'][:,0]#[baseline_to_plot]\n",
    "c_emg = s2_data['signal']['chest']['EMG'][:,0]#[baseline_to_plot]\n",
    "c_resp = s2_data['signal']['chest']['Resp'][:,0]#[baseline_to_plot]\n",
    "w_ax = s2_data['signal']['wrist']['ACC'][0:,0]#[stress_to_plot]\n",
    "w_ay = s2_data['signal']['wrist']['ACC'][0:,1]#[stress_to_plot]\n",
    "w_az = s2_data['signal']['wrist']['ACC'][0:,2]#[stress_to_plot]\n",
    "w_bvp = s2_data['signal']['wrist']['BVP'][:,0]#[stress_to_plot]\n",
    "w_eda = s2_data['signal']['wrist']['EDA'][:,0]#[stress_to_plot]\n",
    "w_temp = s2_data['signal']['wrist']['TEMP'][:,0]#[stress_to_plot]"
   ]
  },
  {
   "cell_type": "markdown",
   "id": "b27c231e",
   "metadata": {},
   "source": [
    "## A sliding window having a shift of 1 second was used for segmenting all sensor signals"
   ]
  },
  {
   "cell_type": "code",
   "execution_count": 8,
   "id": "da8f3bf3",
   "metadata": {},
   "outputs": [],
   "source": [
    "acc_data = np.column_stack((w_ax, w_ay, w_az))\n",
    "\n",
    "import numpy as np\n",
    "from scipy import signal\n",
    "\n",
    "# Define the original sampling frequencies for each sensor signal\n",
    "sampling_freq = {\n",
    "    'ECG': 700,  # RespiBAN ECG: 700 Hz\n",
    "    'RESP': 700,  # RespiBAN RESP: 700 Hz\n",
    "    'EMG': 700,  # RespiBAN EMG: 700 Hz\n",
    "    'TEMP_E4': 4,  # E4 TEMP: 4 Hz\n",
    "    'EDA_E4': 4,  # E4 EDA: 4 Hz\n",
    "    'ACC_E4': 32,  # E4 ACC: 32 Hz\n",
    "    'BVP_E4': 64,  # E4 BVP: 64 Hz\n",
    "}\n",
    "\n",
    "# Sample data for each sensor signal (replace with your actual data)\n",
    "# Ensure the lengths match the original data length\n",
    "\n",
    "# Define sliding window parameters\n",
    "window_size = [4, 32, 64, 700]\n",
    "shift = window_size  # Use the same shift as window size for non-overlapping windows\n",
    "\n",
    "# Initialize a list to store dataframes for each sensor signal\n",
    "dfs = []\n",
    "\n",
    "# Initialize lists to store computed features for each signal\n",
    "features_acc = []\n",
    "features_ecg = []\n",
    "features_resp = []\n",
    "features_eda = []\n",
    "features_emg = []\n",
    "features_temp = []\n",
    "features_bvp = []"
   ]
  },
  {
   "cell_type": "code",
   "execution_count": 9,
   "id": "b92f8157",
   "metadata": {},
   "outputs": [],
   "source": [
    "# Segment the data and compute features for each window\n",
    "for i in range(0, len(acc_data), shift[1]):\n",
    "    acc_window = acc_data[i:i + window_size[1]]\n",
    "\n",
    "    try: \n",
    "        # Compute statistical features for ACC (separately for each axis and summed)\n",
    "        acc_features = {\n",
    "            'mean_acc_x': np.mean(acc_window[:, 0]),\n",
    "            'std_acc_x': np.std(acc_window[:, 0]),\n",
    "            'min_acc_x': np.min(acc_window[:, 0]),\n",
    "            'max_acc_x': np.max(acc_window[:, 0]),\n",
    "            'mean_acc_y': np.mean(acc_window[:, 1]),\n",
    "            'std_acc_y': np.std(acc_window[:, 1]),\n",
    "            'min_acc_y': np.min(acc_window[:, 1]),\n",
    "            'max_acc_y': np.max(acc_window[:, 1]),\n",
    "            'mean_acc_z': np.mean(acc_window[:, 2]),\n",
    "            'std_acc_z': np.std(acc_window[:, 2]),\n",
    "            'min_acc_z': np.min(acc_window[:, 2]),\n",
    "            'max_acc_z': np.max(acc_window[:, 2]),\n",
    "            'sum_acc_3d': np.sum(np.linalg.norm(acc_window, axis=1)),\n",
    "        }\n",
    "        features_acc.append(acc_features)\n",
    "        \n",
    "    except ValueError: \n",
    "        pass\n",
    "    \n",
    "\n",
    "# Create a list of time window identifiers\n",
    "window_ids = range(0, len(acc_data), shift[1])\n",
    "    \n",
    "\n",
    "# Create a dataframe for the ACC features\n",
    "df_acc = pd.DataFrame(features_acc)\n",
    "df_acc['window_id'] = window_ids  # Add the window identifier\n",
    "dfs.append(df_acc)"
   ]
  },
  {
   "cell_type": "code",
   "execution_count": 10,
   "id": "04297bb3",
   "metadata": {},
   "outputs": [],
   "source": [
    "# Segment the data and compute features for each window\n",
    "for i in range(0, len(c_ecg), shift[3]):\n",
    "    ecg_window = c_ecg[i:i + window_size[3]]\n",
    "\n",
    "    try: \n",
    "        # Compute statistical features for ECG\n",
    "        ecg_features = {\n",
    "            'mean_ecg': np.mean(ecg_window),\n",
    "            'std_ecg': np.std(ecg_window),\n",
    "            'min_ecg': np.min(ecg_window),\n",
    "            'max_ecg': np.max(ecg_window),\n",
    "        }\n",
    "        features_ecg.append(ecg_features)\n",
    "        \n",
    "    except ValueError: \n",
    "        pass\n",
    "    \n",
    "# Create a list of time window identifiers\n",
    "window_ids = range(0, len(c_ecg), shift[3])\n",
    "    \n",
    "# Create a dataframe for the ACC features\n",
    "df_ecg = pd.DataFrame(features_ecg)\n",
    "df_ecg['window_id'] = window_ids  # Add the window identifier\n",
    "dfs.append(df_ecg)"
   ]
  },
  {
   "cell_type": "code",
   "execution_count": 11,
   "id": "c39c1af9",
   "metadata": {},
   "outputs": [],
   "source": [
    "# Segment the data and compute features for each window\n",
    "for i in range(0, len(c_resp), shift[3]):\n",
    "    resp_window = c_resp[i:i + window_size[3]]\n",
    "\n",
    "    try: \n",
    "        # Compute statistical features for RESP\n",
    "        resp_features = {\n",
    "            'mean_resp': np.mean(resp_window),\n",
    "            'std_resp': np.std(resp_window),\n",
    "            'min_resp': np.min(resp_window),\n",
    "            'max_resp': np.max(resp_window),\n",
    "        }\n",
    "        features_resp.append(resp_features)\n",
    "        \n",
    "    except ValueError: \n",
    "        pass\n",
    "\n",
    "    # Create a list of time window identifiers\n",
    "window_ids = range(0, len(c_resp), shift[3])\n",
    "\n",
    "# Create a dataframe for the ACC features\n",
    "df_resp = pd.DataFrame(features_resp)\n",
    "df_resp['window_id'] = window_ids  # Add the window identifier\n",
    "dfs.append(df_resp)"
   ]
  },
  {
   "cell_type": "code",
   "execution_count": 12,
   "id": "428cf3a8",
   "metadata": {},
   "outputs": [],
   "source": [
    "# Segment the data and compute features for each window\n",
    "for i in range(0, len(w_eda), shift[0]):\n",
    "    # Define the current window for each sensor signal\n",
    "    eda_window = w_eda[i:i + window_size[0]]\n",
    "\n",
    "    try: \n",
    "        # Compute statistical features for EDA\n",
    "        eda_features = {\n",
    "            'mean_eda': np.mean(eda_window),\n",
    "            'std_eda': np.std(eda_window),\n",
    "            'min_eda': np.min(eda_window),\n",
    "            'max_eda': np.max(eda_window),\n",
    "        }\n",
    "        features_eda.append(eda_features)\n",
    "        \n",
    "    except ValueError: \n",
    "        pass\n",
    "    \n",
    "# Create a list of time window identifiers\n",
    "window_ids = range(0, len(w_eda), shift[0])    \n",
    "\n",
    "# Create a dataframe for the ACC features\n",
    "df_eda = pd.DataFrame(features_eda)\n",
    "df_eda['window_id'] = window_ids  # Add the window identifier\n",
    "dfs.append(df_eda)"
   ]
  },
  {
   "cell_type": "code",
   "execution_count": 13,
   "id": "5b02a49b",
   "metadata": {},
   "outputs": [],
   "source": [
    "# Segment the data and compute features for each window\n",
    "for i in range(0, len(c_emg), shift[3]):\n",
    "    emg_window = c_emg[i:i + window_size[3]]\n",
    "\n",
    "    try:         \n",
    "        emg_features = {\n",
    "            'mean_emg': np.mean(emg_window),\n",
    "            'std_emg': np.std(emg_window),\n",
    "            'min_emg': np.min(emg_window),\n",
    "            'max_emg': np.max(emg_window),\n",
    "            'peak_freq_emg': np.argmax(np.abs(np.fft.fft(emg_window))),\n",
    "        }\n",
    "        features_emg.append(emg_features)\n",
    "        \n",
    "    except ValueError: \n",
    "        pass\n",
    "    \n",
    "# Create a list of time window identifiers\n",
    "window_ids = range(0, len(c_emg), shift[3])\n",
    "\n",
    "# Create a dataframe for the ACC features\n",
    "df_emg = pd.DataFrame(features_emg)\n",
    "df_emg['window_id'] = window_ids  # Add the window identifier\n",
    "dfs.append(df_emg)"
   ]
  },
  {
   "cell_type": "code",
   "execution_count": 14,
   "id": "79f2542b",
   "metadata": {},
   "outputs": [],
   "source": [
    "from scipy.stats import linregress\n",
    "\n",
    "# Segment the data and compute features for each window\n",
    "features_temp = []\n",
    "for i in range(0, len(w_temp), shift[0]):\n",
    "    temp_window = w_temp[i:i + window_size[0]]\n",
    "    x = np.arange(window_size[0])  # x-values\n",
    "    y = temp_window  # y-values\n",
    "\n",
    "    slope, intercept, r_value, p_value, std_err = linregress(x, y)\n",
    "\n",
    "    try: \n",
    "        # Compute statistical features for E4 TEMP (similar to TEMP)\n",
    "        temp_features = {\n",
    "            'mean_temp': np.mean(temp_window),\n",
    "            'std_temp': np.std(temp_window),\n",
    "            'min_temp': np.min(temp_window),\n",
    "            'max_temp': np.max(temp_window),\n",
    "            'slope_temp': slope\n",
    "        }\n",
    "        features_temp.append(temp_features)\n",
    "        \n",
    "    except ValueError: \n",
    "        pass\n",
    "\n",
    "# Create a list of time window identifiers\n",
    "window_ids = range(0, len(w_temp), shift[0])\n",
    "    \n",
    "# Create a dataframe for the ACC features\n",
    "df_temp = pd.DataFrame(features_temp)\n",
    "df_temp['window_id'] = window_ids  # Add the window identifier\n",
    "dfs.append(df_temp)"
   ]
  },
  {
   "cell_type": "code",
   "execution_count": 15,
   "id": "0a0691be",
   "metadata": {},
   "outputs": [],
   "source": [
    "# Segment the data and compute features for each window\n",
    "for i in range(0, len(w_bvp), shift[2]):\n",
    "    bvp_window = w_bvp[i:i + window_size[2]]\n",
    "\n",
    "    try: \n",
    "        # Compute statistical features for E4 BVP\n",
    "        bvp_features = {\n",
    "            'mean_bvp': np.mean(bvp_window),\n",
    "            'std_bvp': np.std(bvp_window),\n",
    "            'min_bvp': np.min(bvp_window),\n",
    "            'max_bvp': np.max(bvp_window),\n",
    "            'peak_freq_bvp': np.argmax(np.abs(np.fft.fft(bvp_window))),\n",
    "        }\n",
    "        features_bvp.append(bvp_features)\n",
    "        \n",
    "    except ValueError: \n",
    "        pass\n",
    "\n",
    "# Create a list of time window identifiers\n",
    "window_ids = range(0, len(w_bvp), shift[2])\n",
    "\n",
    "# Create a dataframe for the ACC features\n",
    "df_bvp = pd.DataFrame(features_bvp)\n",
    "df_bvp['window_id'] = window_ids  # Add the window identifier\n",
    "dfs.append(df_bvp)"
   ]
  },
  {
   "cell_type": "code",
   "execution_count": 16,
   "id": "31184851",
   "metadata": {},
   "outputs": [
    {
     "name": "stdout",
     "output_type": "stream",
     "text": [
      "(6079, 14)\n",
      "(6079, 5)\n",
      "(6079, 5)\n",
      "(6079, 5)\n",
      "(6079, 6)\n",
      "(6079, 6)\n",
      "(6079, 6)\n"
     ]
    }
   ],
   "source": [
    "for df in dfs[0:]:\n",
    "    print(df.shape)"
   ]
  },
  {
   "cell_type": "markdown",
   "id": "95f2e0de",
   "metadata": {},
   "source": [
    "## Repeat a calculated statistical value for the entire window as discussed"
   ]
  },
  {
   "cell_type": "code",
   "execution_count": 17,
   "id": "0f61695b",
   "metadata": {},
   "outputs": [],
   "source": [
    "# Number of times to repeat the values\n",
    "n = 700\n",
    "\n",
    "# Function to repeat every column value n times for a DataFrame\n",
    "def repeat_values(df, n):\n",
    "    return df.apply(lambda x: x.repeat(n), axis = 0)\n",
    "\n",
    "# Repeat values for each DataFrame in the list\n",
    "repeated_df_list = [repeat_values(df, n) for df in dfs]"
   ]
  },
  {
   "cell_type": "markdown",
   "id": "408a6cf5",
   "metadata": {},
   "source": [
    "## Create final datafram with 40 features"
   ]
  },
  {
   "cell_type": "code",
   "execution_count": 18,
   "id": "a79312e3",
   "metadata": {},
   "outputs": [
    {
     "data": {
      "text/plain": [
       "(4255300, 40)"
      ]
     },
     "metadata": {},
     "output_type": "display_data"
    },
    {
     "data": {
      "text/plain": [
       "<bound method DataFrame.info of       mean_acc_x  std_acc_x  min_acc_x  max_acc_x  mean_acc_y  std_acc_y  \\\n",
       "0       52.18750  13.918148       -3.0       81.0    13.56250  13.631163   \n",
       "0       52.18750  13.918148       -3.0       81.0    13.56250  13.631163   \n",
       "0       52.18750  13.918148       -3.0       81.0    13.56250  13.631163   \n",
       "0       52.18750  13.918148       -3.0       81.0    13.56250  13.631163   \n",
       "0       52.18750  13.918148       -3.0       81.0    13.56250  13.631163   \n",
       "...          ...        ...        ...        ...         ...        ...   \n",
       "6078    50.21875   8.695309       39.0       87.0    18.65625   4.413115   \n",
       "6078    50.21875   8.695309       39.0       87.0    18.65625   4.413115   \n",
       "6078    50.21875   8.695309       39.0       87.0    18.65625   4.413115   \n",
       "6078    50.21875   8.695309       39.0       87.0    18.65625   4.413115   \n",
       "6078    50.21875   8.695309       39.0       87.0    18.65625   4.413115   \n",
       "\n",
       "      min_acc_y  max_acc_y  mean_acc_z  std_acc_z  ...  mean_temp  std_temp  \\\n",
       "0         -43.0       26.0    29.87500  31.022925  ...      35.41       0.0   \n",
       "0         -43.0       26.0    29.87500  31.022925  ...      35.41       0.0   \n",
       "0         -43.0       26.0    29.87500  31.022925  ...      35.41       0.0   \n",
       "0         -43.0       26.0    29.87500  31.022925  ...      35.41       0.0   \n",
       "0         -43.0       26.0    29.87500  31.022925  ...      35.41       0.0   \n",
       "...         ...        ...         ...        ...  ...        ...       ...   \n",
       "6078       15.0       32.0    34.21875   8.134550  ...      34.23       0.0   \n",
       "6078       15.0       32.0    34.21875   8.134550  ...      34.23       0.0   \n",
       "6078       15.0       32.0    34.21875   8.134550  ...      34.23       0.0   \n",
       "6078       15.0       32.0    34.21875   8.134550  ...      34.23       0.0   \n",
       "6078       15.0       32.0    34.21875   8.134550  ...      34.23       0.0   \n",
       "\n",
       "      min_temp  max_temp  slope_temp   mean_bvp    std_bvp  min_bvp  max_bvp  \\\n",
       "0        35.41     35.41         0.0  32.057187  32.639032   -85.51    55.33   \n",
       "0        35.41     35.41         0.0  32.057187  32.639032   -85.51    55.33   \n",
       "0        35.41     35.41         0.0  32.057187  32.639032   -85.51    55.33   \n",
       "0        35.41     35.41         0.0  32.057187  32.639032   -85.51    55.33   \n",
       "0        35.41     35.41         0.0  32.057187  32.639032   -85.51    55.33   \n",
       "...        ...       ...         ...        ...        ...      ...      ...   \n",
       "6078     34.23     34.23         0.0   1.350625  17.424271   -33.57    19.71   \n",
       "6078     34.23     34.23         0.0   1.350625  17.424271   -33.57    19.71   \n",
       "6078     34.23     34.23         0.0   1.350625  17.424271   -33.57    19.71   \n",
       "6078     34.23     34.23         0.0   1.350625  17.424271   -33.57    19.71   \n",
       "6078     34.23     34.23         0.0   1.350625  17.424271   -33.57    19.71   \n",
       "\n",
       "      peak_freq_bvp  \n",
       "0                 0  \n",
       "0                 0  \n",
       "0                 0  \n",
       "0                 0  \n",
       "0                 0  \n",
       "...             ...  \n",
       "6078              1  \n",
       "6078              1  \n",
       "6078              1  \n",
       "6078              1  \n",
       "6078              1  \n",
       "\n",
       "[4255300 rows x 40 columns]>"
      ]
     },
     "metadata": {},
     "output_type": "display_data"
    },
    {
     "data": {
      "text/plain": [
       "<bound method NDFrame.describe of       mean_acc_x  std_acc_x  min_acc_x  max_acc_x  mean_acc_y  std_acc_y  \\\n",
       "0       52.18750  13.918148       -3.0       81.0    13.56250  13.631163   \n",
       "0       52.18750  13.918148       -3.0       81.0    13.56250  13.631163   \n",
       "0       52.18750  13.918148       -3.0       81.0    13.56250  13.631163   \n",
       "0       52.18750  13.918148       -3.0       81.0    13.56250  13.631163   \n",
       "0       52.18750  13.918148       -3.0       81.0    13.56250  13.631163   \n",
       "...          ...        ...        ...        ...         ...        ...   \n",
       "6078    50.21875   8.695309       39.0       87.0    18.65625   4.413115   \n",
       "6078    50.21875   8.695309       39.0       87.0    18.65625   4.413115   \n",
       "6078    50.21875   8.695309       39.0       87.0    18.65625   4.413115   \n",
       "6078    50.21875   8.695309       39.0       87.0    18.65625   4.413115   \n",
       "6078    50.21875   8.695309       39.0       87.0    18.65625   4.413115   \n",
       "\n",
       "      min_acc_y  max_acc_y  mean_acc_z  std_acc_z  ...  mean_temp  std_temp  \\\n",
       "0         -43.0       26.0    29.87500  31.022925  ...      35.41       0.0   \n",
       "0         -43.0       26.0    29.87500  31.022925  ...      35.41       0.0   \n",
       "0         -43.0       26.0    29.87500  31.022925  ...      35.41       0.0   \n",
       "0         -43.0       26.0    29.87500  31.022925  ...      35.41       0.0   \n",
       "0         -43.0       26.0    29.87500  31.022925  ...      35.41       0.0   \n",
       "...         ...        ...         ...        ...  ...        ...       ...   \n",
       "6078       15.0       32.0    34.21875   8.134550  ...      34.23       0.0   \n",
       "6078       15.0       32.0    34.21875   8.134550  ...      34.23       0.0   \n",
       "6078       15.0       32.0    34.21875   8.134550  ...      34.23       0.0   \n",
       "6078       15.0       32.0    34.21875   8.134550  ...      34.23       0.0   \n",
       "6078       15.0       32.0    34.21875   8.134550  ...      34.23       0.0   \n",
       "\n",
       "      min_temp  max_temp  slope_temp   mean_bvp    std_bvp  min_bvp  max_bvp  \\\n",
       "0        35.41     35.41         0.0  32.057187  32.639032   -85.51    55.33   \n",
       "0        35.41     35.41         0.0  32.057187  32.639032   -85.51    55.33   \n",
       "0        35.41     35.41         0.0  32.057187  32.639032   -85.51    55.33   \n",
       "0        35.41     35.41         0.0  32.057187  32.639032   -85.51    55.33   \n",
       "0        35.41     35.41         0.0  32.057187  32.639032   -85.51    55.33   \n",
       "...        ...       ...         ...        ...        ...      ...      ...   \n",
       "6078     34.23     34.23         0.0   1.350625  17.424271   -33.57    19.71   \n",
       "6078     34.23     34.23         0.0   1.350625  17.424271   -33.57    19.71   \n",
       "6078     34.23     34.23         0.0   1.350625  17.424271   -33.57    19.71   \n",
       "6078     34.23     34.23         0.0   1.350625  17.424271   -33.57    19.71   \n",
       "6078     34.23     34.23         0.0   1.350625  17.424271   -33.57    19.71   \n",
       "\n",
       "      peak_freq_bvp  \n",
       "0                 0  \n",
       "0                 0  \n",
       "0                 0  \n",
       "0                 0  \n",
       "0                 0  \n",
       "...             ...  \n",
       "6078              1  \n",
       "6078              1  \n",
       "6078              1  \n",
       "6078              1  \n",
       "6078              1  \n",
       "\n",
       "[4255300 rows x 40 columns]>"
      ]
     },
     "metadata": {},
     "output_type": "display_data"
    },
    {
     "data": {
      "text/plain": [
       "Index(['mean_acc_x', 'std_acc_x', 'min_acc_x', 'max_acc_x', 'mean_acc_y',\n",
       "       'std_acc_y', 'min_acc_y', 'max_acc_y', 'mean_acc_z', 'std_acc_z',\n",
       "       'min_acc_z', 'max_acc_z', 'sum_acc_3d', 'mean_ecg', 'std_ecg',\n",
       "       'min_ecg', 'max_ecg', 'mean_resp', 'std_resp', 'min_resp', 'max_resp',\n",
       "       'mean_eda', 'std_eda', 'min_eda', 'max_eda', 'mean_emg', 'std_emg',\n",
       "       'min_emg', 'max_emg', 'peak_freq_emg', 'mean_temp', 'std_temp',\n",
       "       'min_temp', 'max_temp', 'slope_temp', 'mean_bvp', 'std_bvp', 'min_bvp',\n",
       "       'max_bvp', 'peak_freq_bvp'],\n",
       "      dtype='object')"
      ]
     },
     "execution_count": 18,
     "metadata": {},
     "output_type": "execute_result"
    }
   ],
   "source": [
    "result_df = pd.concat([repeated_df_list[0], repeated_df_list[1], repeated_df_list[2], repeated_df_list[3], repeated_df_list[4], dfs[5], repeated_df_list[6]], axis=1)\n",
    "\n",
    "df = result_df.drop(columns=['window_id'])\n",
    "\n",
    "display(df.shape)\n",
    "display(df.info)\n",
    "display(df.describe)\n",
    "\n",
    "df.columns"
   ]
  },
  {
   "cell_type": "code",
   "execution_count": 19,
   "id": "0b0b2419",
   "metadata": {},
   "outputs": [
    {
     "name": "stdout",
     "output_type": "stream",
     "text": [
      "430500\n"
     ]
    }
   ],
   "source": [
    "len(w_label)\n",
    "print(sum(w_label))\n",
    "\n",
    "w_label = np.array(w_label)"
   ]
  },
  {
   "cell_type": "markdown",
   "id": "74a3f72b",
   "metadata": {},
   "source": [
    "## Extract Features & Labels"
   ]
  },
  {
   "cell_type": "code",
   "execution_count": 20,
   "id": "32e0e7d2",
   "metadata": {},
   "outputs": [],
   "source": [
    "import numpy as np\n",
    "import pandas as pd\n",
    "from sklearn.model_selection import train_test_split\n",
    "from sklearn.preprocessing import StandardScaler\n",
    "import tensorflow as tf\n",
    "from tensorflow import keras\n",
    "from tensorflow.keras import layers\n",
    "\n",
    "# Extract features and labels\n",
    "X = df[['mean_acc_x', 'std_acc_x', 'min_acc_x', 'max_acc_x', 'mean_acc_y',\n",
    "       'std_acc_y', 'min_acc_y', 'max_acc_y', 'mean_acc_z', 'std_acc_z',\n",
    "       'min_acc_z', 'max_acc_z', 'sum_acc_3d', 'mean_ecg', 'std_ecg',\n",
    "       'min_ecg', 'max_ecg', 'mean_resp', 'std_resp', 'min_resp', 'max_resp',\n",
    "       'mean_eda', 'std_eda', 'min_eda', 'max_eda', 'mean_emg', 'std_emg',\n",
    "       'min_emg', 'max_emg', 'peak_freq_emg', 'mean_temp', 'std_temp',\n",
    "       'min_temp', 'max_temp', 'slope_temp', 'mean_bvp', 'std_bvp', 'min_bvp',\n",
    "       'max_bvp', 'peak_freq_bvp']]\n",
    "\n",
    "y = w_label"
   ]
  },
  {
   "cell_type": "markdown",
   "id": "7a780ebd",
   "metadata": {},
   "source": [
    "## Creating model based on the above data and as per the Research Paper"
   ]
  },
  {
   "cell_type": "markdown",
   "id": "146cbca5",
   "metadata": {},
   "source": [
    "## Split the data into training and testing sets"
   ]
  },
  {
   "cell_type": "code",
   "execution_count": 21,
   "id": "88c8d937",
   "metadata": {},
   "outputs": [],
   "source": [
    "X_train, X_test, y_train, y_test = train_test_split(X, y, test_size=0.2, random_state=42)"
   ]
  },
  {
   "cell_type": "markdown",
   "id": "9cc4592a",
   "metadata": {},
   "source": [
    "# Build the neural network model for binary classification:"
   ]
  },
  {
   "cell_type": "code",
   "execution_count": 22,
   "id": "e55c2e96",
   "metadata": {},
   "outputs": [
    {
     "name": "stdout",
     "output_type": "stream",
     "text": [
      "Epoch 1/10\n",
      "106383/106383 [==============================] - 151s 1ms/step - loss: 0.2643 - accuracy: 0.9719 - val_loss: 0.0472 - val_accuracy: 0.9821\n",
      "Epoch 2/10\n",
      "106383/106383 [==============================] - 170s 2ms/step - loss: 0.0512 - accuracy: 0.9814 - val_loss: 0.0425 - val_accuracy: 0.9836\n",
      "Epoch 3/10\n",
      "106383/106383 [==============================] - 155s 1ms/step - loss: 0.0457 - accuracy: 0.9840 - val_loss: 0.0422 - val_accuracy: 0.9847\n",
      "Epoch 4/10\n",
      "106383/106383 [==============================] - 191s 2ms/step - loss: 0.0415 - accuracy: 0.9860 - val_loss: 0.0318 - val_accuracy: 0.9905\n",
      "Epoch 5/10\n",
      "106383/106383 [==============================] - 176s 2ms/step - loss: 0.0396 - accuracy: 0.9870 - val_loss: 0.0281 - val_accuracy: 0.9902\n",
      "Epoch 6/10\n",
      "106383/106383 [==============================] - 152s 1ms/step - loss: 0.0383 - accuracy: 0.9873 - val_loss: 0.0288 - val_accuracy: 0.9910\n",
      "Epoch 7/10\n",
      "106383/106383 [==============================] - 159s 1ms/step - loss: 0.0360 - accuracy: 0.9883 - val_loss: 0.0287 - val_accuracy: 0.9911\n",
      "Epoch 8/10\n",
      "106383/106383 [==============================] - 161s 2ms/step - loss: 0.0347 - accuracy: 0.9888 - val_loss: 0.0229 - val_accuracy: 0.9924\n",
      "Epoch 9/10\n",
      "106383/106383 [==============================] - 161s 2ms/step - loss: 0.0341 - accuracy: 0.9891 - val_loss: 0.0229 - val_accuracy: 0.9926\n",
      "Epoch 10/10\n",
      "106383/106383 [==============================] - 165s 2ms/step - loss: 0.0334 - accuracy: 0.9894 - val_loss: 0.0222 - val_accuracy: 0.9928\n"
     ]
    }
   ],
   "source": [
    "binary_model = keras.Sequential([\n",
    "    keras.layers.Input(shape=(X_train.shape[1],)),\n",
    "    keras.layers.Dense(32, activation='relu'),\n",
    "    keras.layers.Dropout(0.25),\n",
    "    keras.layers.Dense(1, activation='sigmoid')\n",
    "])\n",
    "\n",
    "binary_model.compile(optimizer='adam', loss='binary_crossentropy', metrics=['accuracy'])\n",
    "history = binary_model.fit(X_train, y_train, epochs=10, validation_data=(X_test, y_test))"
   ]
  },
  {
   "cell_type": "code",
   "execution_count": 23,
   "id": "8011b1ef",
   "metadata": {},
   "outputs": [
    {
     "name": "stdout",
     "output_type": "stream",
     "text": [
      "26596/26596 [==============================] - 21s 772us/step\n",
      "F1-Score: 0.965659974129689\n"
     ]
    }
   ],
   "source": [
    "from sklearn.metrics import f1_score\n",
    "\n",
    "y_pred = binary_model.predict(X_test)\n",
    "y_pred = (y_pred > 0.5).astype(int)  # Convert probabilities to binary labels (you may need to adjust the threshold)\n",
    "\n",
    "# Calculate the F1-score\n",
    "f1 = f1_score(y_test, y_pred)\n",
    "\n",
    "print(\"F1-Score:\", f1)"
   ]
  },
  {
   "cell_type": "code",
   "execution_count": 24,
   "id": "e37f5a4b",
   "metadata": {},
   "outputs": [
    {
     "data": {
      "image/png": "[encoded data removed]",
      "text/plain": [
       "<Figure size 432x288 with 1 Axes>"
      ]
     },
     "metadata": {
      "needs_background": "light"
     },
     "output_type": "display_data"
    },
    {
     "data": {
      "image/png": "[encoded data removed]",
      "text/plain": [
       "<Figure size 432x288 with 1 Axes>"
      ]
     },
     "metadata": {
      "needs_background": "light"
     },
     "output_type": "display_data"
    }
   ],
   "source": [
    "# Plot training & validation accuracy values\n",
    "plt.plot(history.history['accuracy'])\n",
    "plt.plot(history.history['val_accuracy'])\n",
    "plt.title('Model accuracy')\n",
    "plt.xlabel('Epoch')\n",
    "plt.ylabel('Accuracy')\n",
    "plt.legend(['Train', 'Test'], loc='upper left')\n",
    "plt.show()\n",
    "\n",
    "# Plot training & validation loss values\n",
    "plt.plot(history.history['loss'])\n",
    "plt.plot(history.history['val_loss'])\n",
    "plt.title('Model loss')\n",
    "plt.xlabel('Epoch')\n",
    "plt.ylabel('Loss')\n",
    "plt.legend(['Train', 'Test'], loc='upper left')\n",
    "plt.show()"
   ]
  },
  {
   "cell_type": "code",
   "execution_count": 25,
   "id": "1680b86b",
   "metadata": {},
   "outputs": [
    {
     "name": "stdout",
     "output_type": "stream",
     "text": [
      "26596/26596 [==============================] - 24s 891us/step\n"
     ]
    },
    {
     "data": {
      "image/png": "[encoded data removed]",
      "text/plain": [
       "<Figure size 576x432 with 2 Axes>"
      ]
     },
     "metadata": {
      "needs_background": "light"
     },
     "output_type": "display_data"
    }
   ],
   "source": [
    "from sklearn.metrics import confusion_matrix\n",
    "import seaborn as sns\n",
    "\n",
    "# Get predictions on the test set\n",
    "y_pred = binary_model.predict(X_test)\n",
    "y_pred = (y_pred > 0.5).astype(int)\n",
    "\n",
    "# Create confusion matrix\n",
    "conf_matrix = confusion_matrix(y_test, y_pred)\n",
    "\n",
    "# Plot confusion matrix\n",
    "plt.figure(figsize=(8, 6))\n",
    "sns.heatmap(conf_matrix, annot=True, fmt='d', cmap='Blues')\n",
    "plt.xlabel('Predicted labels')\n",
    "plt.ylabel('True labels')\n",
    "plt.title('Confusion Matrix')\n",
    "plt.show()"
   ]
  }
 ],
 "metadata": {
  "kernelspec": {
   "display_name": "Python 3 (ipykernel)",
   "language": "python",
   "name": "python3"
  },
  "language_info": {
   "codemirror_mode": {
    "name": "ipython",
    "version": 3
   },
   "file_extension": ".py",
   "mimetype": "text/x-python",
   "name": "python",
   "nbconvert_exporter": "python",
   "pygments_lexer": "ipython3",
   "version": "3.9.18"
  }
 },
 "nbformat": 4,
 "nbformat_minor": 5
}
